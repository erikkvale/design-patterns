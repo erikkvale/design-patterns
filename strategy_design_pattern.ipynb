{
 "cells": [
  {
   "cell_type": "code",
   "execution_count": null,
   "metadata": {},
   "outputs": [],
   "source": [
    "Example Requirements:\n",
    "    \n",
    "    A shipping cost calculator:\n",
    "        - Federal Express\n",
    "        - UPS\n",
    "        - Postal Service\n",
    "        - *Any additional/future shippers* so must be extensible\n",
    "    "
   ]
  },
  {
   "cell_type": "code",
   "execution_count": 2,
   "metadata": {},
   "outputs": [],
   "source": [
    "class Order:\n",
    "    def __init__(self, shipper):\n",
    "        self._shipper = shipper\n",
    "    \n",
    "    # Violation of SOLID principle 'S'\n",
    "    @property\n",
    "    def shipper(self):\n",
    "        return self._shipper\n",
    "\n",
    "    \n",
    "class Shipper:\n",
    "    fedex = 1\n",
    "    ups = 2\n",
    "    postal = 3\n",
    "\n",
    "    \n",
    "class ShippingCost:\n",
    "    \n",
    "    # Violates the open-close principle\n",
    "    def shipping_cost(self, order):\n",
    "        if order.shipper == Shipper.fedex:\n",
    "            return self._fedex_cost(order)\n",
    "        elif order.shipper == Shipper.ups:\n",
    "            return self._ups_cost(order)\n",
    "        elif order.shipper == Shipper.postal:\n",
    "            return self._postal_cost(order)\n",
    "        else:\n",
    "            raise ValueError(\"Invalid shipper %s\", order.shipper)\n",
    "\n",
    "    def _fedex_cost(self, order):\n",
    "        return 3.00\n",
    "    \n",
    "    def _ups_cost(self, order):\n",
    "        return 4.00\n",
    "    \n",
    "    def _postal_cost(self, order):\n",
    "        return 5.00"
   ]
  },
  {
   "cell_type": "code",
   "execution_count": 3,
   "metadata": {},
   "outputs": [],
   "source": [
    "\n",
    "# FedEx\n",
    "order = Order(Shipper.fedex)\n",
    "cost_calculator = ShippingCost()\n",
    "cost = cost_calculator.shipping_cost(order)\n",
    "assert cost == 3.0\n",
    "\n",
    "# UPS\n",
    "order = Order(Shipper.ups)\n",
    "cost_calculator = ShippingCost()\n",
    "cost = cost_calculator.shipping_cost(order)\n",
    "assert cost == 4.0\n",
    "\n",
    "# USPS (postal)\n",
    "order = Order(Shipper.postal)\n",
    "cost_calculator = ShippingCost()\n",
    "cost = cost_calculator.shipping_cost(order)\n",
    "assert cost == 5.0"
   ]
  },
  {
   "cell_type": "code",
   "execution_count": null,
   "metadata": {},
   "outputs": [],
   "source": []
  }
 ],
 "metadata": {
  "kernelspec": {
   "display_name": "Python 3",
   "language": "python",
   "name": "python3"
  },
  "language_info": {
   "codemirror_mode": {
    "name": "ipython",
    "version": 3
   },
   "file_extension": ".py",
   "mimetype": "text/x-python",
   "name": "python",
   "nbconvert_exporter": "python",
   "pygments_lexer": "ipython3",
   "version": "3.6.5"
  }
 },
 "nbformat": 4,
 "nbformat_minor": 2
}
